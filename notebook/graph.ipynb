{
 "cells": [
  {
   "cell_type": "markdown",
   "metadata": {},
   "source": [
    "Given $N \\in \\mathbb{N}$ and $D > 0$, we create a point set on the plane $U \\subset \\mathbb{R}^2$ of size $N$ in the range $[-D, D]$.\n",
    "We create a graph using based on $U$ with parameter $c, (c_1, c_2)$.\n",
    "The graph is created by first generating the Delaunay mesh from $U$, then we add $c$ additional edges but also removing intersecting edges from the original Delaunay.\n",
    "The number of intersecting edges stays in the range $[c_1, c_2]$. "
   ]
  },
  {
   "cell_type": "code",
   "execution_count": 1,
   "metadata": {},
   "outputs": [],
   "source": [
    "from mapmatch.input_graph import create_points, create_graph_from_points\n",
    "\n",
    "U = create_points(n=16, d=1)\n",
    "\n",
    "P0, _ = create_graph_from_points(U, remove_count=0, remove_threshold_interval=(0, 0))\n",
    "P1, d1 = create_graph_from_points(U, remove_count=1, remove_threshold_interval=(0, 3))\n",
    "P2, d2 = create_graph_from_points(U, remove_count=1, remove_threshold_interval=(7, 100))"
   ]
  },
  {
   "cell_type": "markdown",
   "metadata": {},
   "source": [
    "Now we will visualize the graphs by showing vertices and edges. And show the additional added and removed edges that are green and red respectively."
   ]
  },
  {
   "cell_type": "code",
   "execution_count": 2,
   "metadata": {},
   "outputs": [],
   "source": [
    "from mapmatch.visualisation import visualize_graph, visualize_graph_debug\n",
    "\n",
    "visualize_graph(P0, \"graph-0\")\n",
    "visualize_graph_debug(P1, d1, \"graph-1\")\n",
    "visualize_graph(P1, \"graph-2\")\n",
    "visualize_graph_debug(P2, d2, \"graph-3\")\n",
    "visualize_graph(P2, \"graph-4\")"
   ]
  },
  {
   "cell_type": "markdown",
   "metadata": {},
   "source": [
    "Now we will add the highway graph. We have three parameters.\n",
    "The $h \\in \\mathbb{N}$ parameter represents the number of highway points that needs to be divisible by 4.\n",
    "Because each highway lane needs $h/4$ points. The $h_v > 0$ parameter represents the distance between two highway lanes.\n",
    "And lastly the exit list $h_i \\in \\mathbb{N} $ with numbers ranging $0 \\leq h_i \\leq h$ represents points of the highway that merges with the original graph."
   ]
  },
  {
   "cell_type": "code",
   "execution_count": null,
   "metadata": {},
   "outputs": [],
   "source": [
    "from mapmatch.input_graph import create_graph_highway_from_graph\n",
    "\n",
    "U2 = create_points(n=16, d=1)\n",
    "P_original, _ = create_graph_from_points(U2, remove_count=3, remove_threshold_interval=(1, 4))\n",
    "P_highway = create_graph_highway_from_graph(P_original, d=1, highway_points=6*4, highway_thickness=0.1, exits=[2, 6+4, 12+2, 18+4])"
   ]
  },
  {
   "cell_type": "markdown",
   "metadata": {},
   "source": [
    "Now we will visualize the newly created highway. The black lines represent the original Delaunay based mesh. The red lines are the highways, and the green lines connect the Delaunay based mesh with the highway, that is the exits of the highways."
   ]
  },
  {
   "cell_type": "code",
   "execution_count": 4,
   "metadata": {},
   "outputs": [],
   "source": [
    "from mapmatch.visualisation import visualize_highway_debug\n",
    "\n",
    "visualize_graph(P_original, \"graph-1-0\")\n",
    "visualize_highway_debug(P_original, P_highway, \"graph-1-1\")\n",
    "visualize_graph(P_highway, \"graph-1-2\")"
   ]
  },
  {
   "cell_type": "markdown",
   "metadata": {},
   "source": [
    "Now apply the same principle for bigger highway graphs."
   ]
  },
  {
   "cell_type": "code",
   "execution_count": 5,
   "metadata": {},
   "outputs": [],
   "source": [
    "from mapmatch.input_graph import graph_largest_component, GraphNeighbour\n",
    "\n",
    "U3 = create_points(n=128, d=1)\n",
    "P_original2, _ = create_graph_from_points(U3, remove_count=36, remove_threshold_interval=(3, 12))\n",
    "P_original2 = graph_largest_component(P_original2, GraphNeighbour(P_original2))\n",
    "P_highway2 = create_graph_highway_from_graph(P_original2, d=1, highway_points=18*4, highway_thickness=0.1, exits=[2, 18+12, 36+5, 54+17])\n",
    "\n",
    "visualize_graph(P_original2, \"graph-2-0\", 0.5)\n",
    "visualize_highway_debug(P_original2, P_highway2, \"graph-2-1\", 0.5)\n",
    "visualize_graph(P_highway2, \"graph-2-2\", 0.5)"
   ]
  },
  {
   "cell_type": "markdown",
   "metadata": {},
   "source": [
    "Finally, we will create four graphs: tiny, small, medium and big.\n",
    "These four graphs will be stored with pickle, so users can reproduce results from the thesis.\n",
    "The file saving lines are commented out, to stay consistent with the thesis result input."
   ]
  },
  {
   "cell_type": "code",
   "execution_count": null,
   "metadata": {},
   "outputs": [],
   "source": [
    "import pickle\n",
    "from mapmatch.input_graph import graph_largest_component, GraphNeighbour, graph_pertube\n",
    "\n",
    "U_tiny = create_points(n=12, d=1)\n",
    "U_small = create_points(n=16, d=1)\n",
    "U_medium = create_points(n=48, d=1)\n",
    "U_large = create_points(n=128, d=1)\n",
    "\n",
    "P_original_tiny, _ = create_graph_from_points(U_small, remove_count=2, remove_threshold_interval=(1, 5))\n",
    "P_original_small, _ = create_graph_from_points(U_small, remove_count=3, remove_threshold_interval=(2, 5))\n",
    "P_original_medium, _ = create_graph_from_points(U_medium, remove_count=8, remove_threshold_interval=(4, 8))\n",
    "P_original_large, _ = create_graph_from_points(U_large, remove_count=12, remove_threshold_interval=(9, 14))\n",
    "\n",
    "P_original_tiny = graph_largest_component(P_original_tiny, GraphNeighbour(P_original_tiny))\n",
    "P_original_small = graph_largest_component(P_original_small, GraphNeighbour(P_original_small))\n",
    "P_original_medium = graph_largest_component(P_original_medium, GraphNeighbour(P_original_medium))\n",
    "P_original_large = graph_largest_component(P_original_large, GraphNeighbour(P_original_large))\n",
    "\n",
    "P_highway_tiny = P_original_tiny\n",
    "P_highway_small = create_graph_highway_from_graph(P_original_small, d=1, highway_points=4*4, highway_thickness=0.1, exits=[0, 4+1, 8+2, 12+3])\n",
    "P_highway_medium = create_graph_highway_from_graph(P_original_medium, d=1, highway_points=4*4, highway_thickness=0.1, exits=[0, 4+1, 8+2, 12+3])\n",
    "P_highway_large = create_graph_highway_from_graph(P_original_large, d=1, highway_points=6*4, highway_thickness=0.1, exits=[0, 6+2, 12+3, 18+5])\n",
    "\n",
    "P_highway_tiny = graph_pertube(P_highway_tiny, 1e-10, 1024)\n",
    "P_highway_small = graph_pertube(P_highway_small, 1e-10, 1024)\n",
    "P_highway_medium = graph_pertube(P_highway_medium, 1e-10, 1024)\n",
    "P_highway_large = graph_pertube(P_highway_large, 1e-10, 1024)\n",
    "\n",
    "# pickle.dump(P_highway_tiny, open(\"highway_tiny.dat\", \"wb\"))\n",
    "# pickle.dump(P_highway_small, open(\"highway_small.dat\", \"wb\"))\n",
    "# pickle.dump(P_highway_medium, open(\"highway_medium.dat\", \"wb\"))\n",
    "# pickle.dump(P_highway_large, open(\"highway_large.dat\", \"wb\"))"
   ]
  },
  {
   "cell_type": "code",
   "execution_count": 7,
   "metadata": {},
   "outputs": [],
   "source": [
    "P_highway_tiny = pickle.load(open(\"highway_tiny.dat\", \"rb\"))\n",
    "P_highway_small = pickle.load(open(\"highway_small.dat\", \"rb\"))\n",
    "P_highway_medium = pickle.load(open(\"highway_medium.dat\", \"rb\"))\n",
    "P_highway_large = pickle.load(open(\"highway_large.dat\", \"rb\"))\n",
    "\n",
    "visualize_graph(P_highway_tiny, \"graph-tiny\", 1)\n",
    "visualize_graph(P_highway_small, \"graph-small\", 1)\n",
    "visualize_graph(P_highway_medium, \"graph-medium\", 0.5)\n",
    "visualize_graph(P_highway_large, \"graph-large\", 0.25)"
   ]
  }
 ],
 "metadata": {
  "kernelspec": {
   "display_name": ".venv",
   "language": "python",
   "name": "python3"
  },
  "language_info": {
   "codemirror_mode": {
    "name": "ipython",
    "version": 3
   },
   "file_extension": ".py",
   "mimetype": "text/x-python",
   "name": "python",
   "nbconvert_exporter": "python",
   "pygments_lexer": "ipython3",
   "version": "3.13.0"
  }
 },
 "nbformat": 4,
 "nbformat_minor": 2
}
