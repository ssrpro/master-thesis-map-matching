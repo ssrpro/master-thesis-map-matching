{
 "cells": [
  {
   "cell_type": "markdown",
   "metadata": {},
   "source": [
    "Given the small, medium, and large graph dataset from the graph notebook we will create all the necessary data structures.\n",
    "We do this in two stages.\n",
    "First we create basic data structures, like the SSPD, neighboring vertex matrix and distance matrix.\n",
    "These data structures will be stored with the pickle module as stage 1 for small medium and large graphs.\n",
    "Then we create the more complicated data structures, which are the edge matching and the restricted Fréchet distance data structure.\n",
    "These data structures depend on the parameter $\\varepsilon > 0$.\n",
    "We will use the parameter values $1, 1/2, 1/4$ for the types $1, 2, 3$ respectively.\n",
    "This means that we have in total of 9 stage 2 data structures stored.\n",
    "Finally, we will use one of the 9 pre-computed data structures to perform map matching.\n",
    "\n",
    "Note that we commented sections of the code that does not need to be run.\n",
    "If the notebook has never been run before, make sure to comment-out the necessary graphs.\n",
    "For instance the medium dataset with $\\varepsilon = 1/2$ requires computing `highway_medium_stage1.dat` and `highway_small-2_stage2.dat`.\n",
    "Hence, make sure to leave the other code commented, and only comment-out the necessary code to speed up the computation.\n",
    "After computing the data structure, you can comment it again, since the result is stored as pickle objects in the run folder."
   ]
  },
  {
   "cell_type": "markdown",
   "metadata": {},
   "source": [
    "First we will construct the stage 1 data structures."
   ]
  },
  {
   "cell_type": "code",
   "execution_count": 1,
   "metadata": {},
   "outputs": [],
   "source": [
    "# from mapmatch.input_graph import Graph, GraphNeighbour, GraphDistanceMatrix\n",
    "# from mapmatch.bar_tree import compute_bar_tree_from_points\n",
    "# from mapmatch.sspd import compute_modified_bar_tree, compute_sspd\n",
    "\n",
    "# import pickle\n",
    "\n",
    "# P_highway_tiny: Graph = pickle.load(open(\"highway_tiny.dat\", \"rb\"))\n",
    "# P_highway_tiny_neighbour = GraphNeighbour(P_highway_tiny)\n",
    "# P_highway_tiny_distance = GraphDistanceMatrix(P_highway_tiny, P_highway_tiny_neighbour)\n",
    "# tree_tiny = compute_bar_tree_from_points(P_highway_tiny.vertices, 6, 2/3)\n",
    "# tree_reduced_tiny = compute_modified_bar_tree(tree_tiny)\n",
    "# sspd_tiny = compute_sspd(P_highway_tiny, P_highway_tiny_neighbour, tree_reduced_tiny, 0.5)\n",
    "# pickle.dump((P_highway_tiny, P_highway_tiny_neighbour, P_highway_tiny_distance, sspd_tiny), open(\"run/highway_tiny_stage1.dat\", \"wb\"))\n",
    "\n",
    "# P_highway_small: Graph = pickle.load(open(\"highway_small.dat\", \"rb\"))\n",
    "# P_highway_small_neighbour = GraphNeighbour(P_highway_small)\n",
    "# P_highway_small_distance = GraphDistanceMatrix(P_highway_small, P_highway_small_neighbour)\n",
    "# tree_small = compute_bar_tree_from_points(P_highway_small.vertices, 6, 2/3)\n",
    "# tree_reduced_small = compute_modified_bar_tree(tree_small)\n",
    "# sspd_small = compute_sspd(P_highway_small, P_highway_small_neighbour, tree_reduced_small, 0.5)\n",
    "# pickle.dump((P_highway_small, P_highway_small_neighbour, P_highway_small_distance, sspd_small), open(\"run/highway_small_stage1.dat\", \"wb\"))\n",
    "\n",
    "# P_highway_medium: Graph = pickle.load(open(\"highway_medium.dat\", \"rb\"))\n",
    "# P_highway_medium_neighbour = GraphNeighbour(P_highway_medium)\n",
    "# P_highway_medium_distance = GraphDistanceMatrix(P_highway_medium, P_highway_medium_neighbour)\n",
    "# tree_medium = compute_bar_tree_from_points(P_highway_medium.vertices, 6, 2/3)\n",
    "# tree_reduced_medium = compute_modified_bar_tree(tree_medium)\n",
    "# sspd_medium = compute_sspd(P_highway_medium, P_highway_medium_neighbour, tree_reduced_medium, 0.5)\n",
    "# pickle.dump((P_highway_medium, P_highway_medium_neighbour, P_highway_medium_distance, sspd_medium), open(\"run/highway_medium_stage1.dat\", \"wb\"))\n",
    "\n",
    "# P_highway_large: Graph = pickle.load(open(\"highway_large.dat\", \"rb\"))\n",
    "# P_highway_large_neighbour = GraphNeighbour(P_highway_large)\n",
    "# P_highway_large_distance = GraphDistanceMatrix(P_highway_large, P_highway_large_neighbour)\n",
    "# tree_large = compute_bar_tree_from_points(P_highway_large.vertices, 6, 2/3)\n",
    "# tree_reduced_large = compute_modified_bar_tree(tree_large)\n",
    "# sspd_large = compute_sspd(P_highway_large, P_highway_large_neighbour, tree_reduced_large, 0.5)\n",
    "# pickle.dump((P_highway_large, P_highway_large_neighbour, P_highway_large_distance, sspd_large), open(\"run/highway_large_stage1.dat\", \"wb\"))"
   ]
  },
  {
   "cell_type": "markdown",
   "metadata": {},
   "source": [
    "Now we will calculate the stage 2 data structures of the graphs to efficiency query Fréchet distances.\n",
    "This step will take the longest time.\n",
    "Again, comment out only the necessary sections that needs to be run."
   ]
  },
  {
   "cell_type": "code",
   "execution_count": 2,
   "metadata": {},
   "outputs": [],
   "source": [
    "# from mapmatch.frechet_distance_sspd import compute_sspd_frechet\n",
    "# from mapmatch.graph_match import construct_edge_match\n",
    "\n",
    "# import pickle\n",
    "# from time import perf_counter\n",
    "\n",
    "# (P_highway_tiny, P_highway_tiny_neighbour, P_highway_tiny_distance, sspd_tiny) = pickle.load(open(\"run/highway_tiny_stage1.dat\", \"rb\"))\n",
    "\n",
    "# perf_start = perf_counter()\n",
    "# frechet_tiny_1 = compute_sspd_frechet(sspd_tiny, P_highway_tiny, P_highway_tiny_neighbour, 1e-4, 1)\n",
    "# edge_match_tiny_1 = construct_edge_match(P_highway_tiny, P_highway_tiny_distance.distance_matrix, 1)\n",
    "# perf_stop = perf_counter()\n",
    "# pickle.dump((frechet_tiny_1, edge_match_tiny_1), open(\"run/highway_tiny-1_stage2.dat\", \"wb\"))\n",
    "# print(f\"Elapsed time tiny-1: {perf_stop - perf_start}\")\n",
    "\n",
    "# # perf_start = perf_counter()\n",
    "# frechet_tiny_2 = compute_sspd_frechet(sspd_tiny, P_highway_tiny, P_highway_tiny_neighbour, 1e-6, 0.5)\n",
    "# edge_match_tiny_2 = construct_edge_match(P_highway_tiny, P_highway_tiny_distance.distance_matrix, 0.5)\n",
    "# perf_stop = perf_counter()\n",
    "# pickle.dump((frechet_tiny_2, edge_match_tiny_2), open(\"run/highway_tiny-2_stage2.dat\", \"wb\"))\n",
    "# print(f\"Elapsed time tiny-2: {perf_stop - perf_start}\")\n",
    "\n",
    "# perf_start = perf_counter()\n",
    "# frechet_tiny_3 = compute_sspd_frechet(sspd_tiny, P_highway_tiny, P_highway_tiny_neighbour, 1e-6, 0.25)\n",
    "# edge_match_tiny_3 = construct_edge_match(P_highway_tiny, P_highway_tiny_distance.distance_matrix, 0.25)\n",
    "# perf_stop = perf_counter()\n",
    "# pickle.dump((frechet_tiny_3, edge_match_tiny_3), open(\"run/highway_tiny-3_stage2.dat\", \"wb\"))\n",
    "# print(f\"Elapsed time tiny-3: {perf_stop - perf_start}\")"
   ]
  },
  {
   "cell_type": "markdown",
   "metadata": {},
   "source": [
    "The stage 2 data structures for $\\varepsilon = 1, 1/2, 1/4$ for small graphs."
   ]
  },
  {
   "cell_type": "code",
   "execution_count": 3,
   "metadata": {},
   "outputs": [],
   "source": [
    "# from mapmatch.frechet_distance_sspd import compute_sspd_frechet\n",
    "# from mapmatch.graph_match import construct_edge_match\n",
    "\n",
    "# import pickle\n",
    "# from time import perf_counter\n",
    "\n",
    "# (P_highway_small, P_highway_small_neighbour, P_highway_small_distance, sspd_small) = pickle.load(open(\"run/highway_small_stage1.dat\", \"rb\"))\n",
    "\n",
    "# perf_start = perf_counter()\n",
    "# frechet_small_1 = compute_sspd_frechet(sspd_small, P_highway_small, P_highway_small_neighbour, 1e-4, 1)\n",
    "# edge_match_small_1 = construct_edge_match(P_highway_small, P_highway_small_distance.distance_matrix, 1)\n",
    "# perf_stop = perf_counter()\n",
    "# pickle.dump((frechet_small_1, edge_match_small_1), open(\"run/highway_small-1_stage2.dat\", \"wb\"))\n",
    "# print(f\"Elapsed time small-1: {perf_stop - perf_start}\")\n",
    "\n",
    "# perf_start = perf_counter()\n",
    "# frechet_small_2 = compute_sspd_frechet(sspd_small, P_highway_small, P_highway_small_neighbour, 1e-6, 0.5)\n",
    "# edge_match_small_2 = construct_edge_match(P_highway_small, P_highway_small_distance.distance_matrix, 0.5)\n",
    "# perf_stop = perf_counter()\n",
    "# pickle.dump((frechet_small_2, edge_match_small_2), open(\"run/highway_small-2_stage2.dat\", \"wb\"))\n",
    "# print(f\"Elapsed time small-2: {perf_stop - perf_start}\")\n",
    "\n",
    "# perf_start = perf_counter()\n",
    "# frechet_small_3 = compute_sspd_frechet(sspd_small, P_highway_small, P_highway_small_neighbour, 1e-6, 0.25)\n",
    "# edge_match_small_3 = construct_edge_match(P_highway_small, P_highway_small_distance.distance_matrix, 0.25)\n",
    "# perf_stop = perf_counter()\n",
    "# pickle.dump((frechet_small_3, edge_match_small_3), open(\"run/highway_small-3_stage2.dat\", \"wb\"))\n",
    "# print(f\"Elapsed time small-3: {perf_stop - perf_start}\")"
   ]
  },
  {
   "cell_type": "markdown",
   "metadata": {},
   "source": [
    "The stage 2 data structures for $\\varepsilon = 1, 1/2, 1/4$ for medium graphs."
   ]
  },
  {
   "cell_type": "code",
   "execution_count": 4,
   "metadata": {},
   "outputs": [],
   "source": [
    "# from mapmatch.frechet_distance_sspd import compute_sspd_frechet\n",
    "# from mapmatch.graph_match import construct_edge_match\n",
    "\n",
    "# import pickle\n",
    "# from time import perf_counter\n",
    "\n",
    "# (P_highway_medium, P_highway_medium_neighbour, P_highway_medium_distance, sspd_medium) = pickle.load(open(\"run/highway_medium_stage1.dat\", \"rb\"))\n",
    "\n",
    "# perf_start = perf_counter()\n",
    "# frechet_medium_1 = compute_sspd_frechet(sspd_medium, P_highway_medium, P_highway_medium_neighbour, 1e-6, 1)\n",
    "# edge_match_medium_1 = construct_edge_match(P_highway_medium, P_highway_medium_distance.distance_matrix, 1)\n",
    "# perf_stop = perf_counter()\n",
    "# pickle.dump((frechet_medium_1, edge_match_medium_1), open(\"run/highway_medium-1_stage2.dat\", \"wb\"))\n",
    "# print(f\"Elapsed time medium-1: {perf_stop - perf_start}\")\n",
    "\n",
    "# perf_start = perf_counter()\n",
    "# frechet_medium_2 = compute_sspd_frechet(sspd_medium, P_highway_medium, P_highway_medium_neighbour, 1e-6, 0.5)\n",
    "# edge_match_medium_2 = construct_edge_match(P_highway_medium, P_highway_medium_distance.distance_matrix, 0.5)\n",
    "# perf_stop = perf_counter()\n",
    "# pickle.dump((frechet_medium_2, edge_match_medium_2), open(\"run/highway_medium-2_stage2.dat\", \"wb\"))\n",
    "# print(f\"Elapsed time medium-2: {perf_stop - perf_start}\")\n",
    "\n",
    "# perf_start = perf_counter()\n",
    "# frechet_medium_3 = compute_sspd_frechet(sspd_medium, P_highway_medium, P_highway_medium_neighbour, 1e-6, 0.25)\n",
    "# edge_match_medium_3 = construct_edge_match(P_highway_medium, P_highway_medium_distance.distance_matrix, 0.25)\n",
    "# perf_stop = perf_counter()\n",
    "# pickle.dump((frechet_medium_3, edge_match_medium_3), open(\"run/highway_medium-3_stage2.dat\", \"wb\"))\n",
    "# print(f\"Elapsed time medium-3: {perf_stop - perf_start}\")"
   ]
  },
  {
   "cell_type": "markdown",
   "metadata": {},
   "source": [
    "The stage 2 data structures for $\\varepsilon = 1, 1/2, 1/4$ for large graphs."
   ]
  },
  {
   "cell_type": "code",
   "execution_count": 5,
   "metadata": {},
   "outputs": [],
   "source": [
    "# from mapmatch.frechet_distance_sspd import compute_sspd_frechet\n",
    "# from mapmatch.graph_match import construct_edge_match\n",
    "\n",
    "# import pickle\n",
    "# from time import perf_counter\n",
    "\n",
    "# (P_highway_large, P_highway_large_neighbour, P_highway_large_distance, sspd_large) = pickle.load(open(\"run/highway_large_stage1.dat\", \"rb\"))\n",
    "\n",
    "# perf_start = perf_counter()\n",
    "# frechet_large_1 = compute_sspd_frechet(sspd_large, P_highway_large, P_highway_large_neighbour, 1e-6, 1)\n",
    "# edge_match_large_1 = construct_edge_match(P_highway_large, P_highway_large_distance.distance_matrix, 1)\n",
    "# perf_stop = perf_counter()\n",
    "# pickle.dump((frechet_large_1, edge_match_large_1), open(\"run/highway_large-1_stage2.dat\", \"wb\"))\n",
    "# print(f\"Elapsed time large-1: {perf_stop - perf_start}\")\n",
    "\n",
    "# perf_start = perf_counter()\n",
    "# frechet_large_2 = compute_sspd_frechet(sspd_large, P_highway_large, P_highway_large_neighbour, 1e-6, 0.5)\n",
    "# edge_match_large_2 = construct_edge_match(P_highway_large, P_highway_large_distance.distance_matrix, 0.5)\n",
    "# perf_stop = perf_counter()\n",
    "# pickle.dump((frechet_large_2, edge_match_large_2), open(\"run/highway_large-2_stage2.dat\", \"wb\"))\n",
    "# print(f\"Elapsed time large-2: {perf_stop - perf_start}\")\n",
    "\n",
    "# perf_start = perf_counter()\n",
    "# frechet_large_3 = compute_sspd_frechet(sspd_large, P_highway_large, P_highway_large_neighbour, 1e-6, 0.25)\n",
    "# edge_match_large_3 = construct_edge_match(P_highway_large, P_highway_large_distance.distance_matrix, 0.25)\n",
    "# perf_stop = perf_counter()\n",
    "# pickle.dump((frechet_large_3, edge_match_large_3), open(\"run/highway_large-3_stage2.dat\", \"wb\"))\n",
    "# print(f\"Elapsed time large-3: {perf_stop - perf_start}\")"
   ]
  },
  {
   "cell_type": "markdown",
   "metadata": {},
   "source": [
    "Now we will load one of the 9 data structures and perform map matching queries.\n",
    "We will first sample a random path by picking a starting vertex and following the neighboring vertices without revisiting vertices.\n",
    "Then we will pick points with equal distance using the sampled path.\n",
    "And lastly we will add some noise to make the map matching more challenging."
   ]
  },
  {
   "cell_type": "code",
   "execution_count": null,
   "metadata": {},
   "outputs": [
    {
     "name": "stdout",
     "output_type": "stream",
     "text": [
      "[Point(x=0.5189269308125575, y=-0.6071985661400652), Point(x=0.8234380136294326, y=-1.0121208976826288), Point(x=0.8750025391221016, y=-0.1306869399240264), Point(x=0.2856772498688977, y=0.574621283308053)]\n",
      "Interval(left=0.16341672505140306, right=0.16401277149319649)\n"
     ]
    }
   ],
   "source": [
    "from mapmatch.frechet_distance_sspd import optimize_frechet_distance_stage_3\n",
    "from mapmatch.visualisation import visualize_graph_trajectory\n",
    "\n",
    "from mapmatch.utilities import Point\n",
    "import pickle\n",
    "import random\n",
    "\n",
    "(P_highway, P_highway_neighbour, P_highway_distance, sspd) = pickle.load(open(\"run/highway_tiny_stage1.dat\", \"rb\"))\n",
    "(frechet, edge_match) = pickle.load(open(\"run/highway_tiny-1_stage2.dat\", \"rb\"))\n",
    "\n",
    "starting_vertex_index = 8\n",
    "path_length = 4\n",
    "epsilon = 1.0\n",
    "noise = 0.15\n",
    "\n",
    "path = [starting_vertex_index]\n",
    "while len(path) < path_length:\n",
    "    found_next_path = False\n",
    "    for next_vertex_index in P_highway_neighbour.neighbours[path[-1]]:\n",
    "        path.append(next_vertex_index)\n",
    "        found_next_path = True\n",
    "        break\n",
    "\n",
    "    if not found_next_path:\n",
    "        print(f\"Warning: could only find a path of length {len(path)} instead of {path_length}\")\n",
    "        break\n",
    "\n",
    "qs = [ P_highway.vertices[vertex_index] for vertex_index in path ]\n",
    "qs = [ Point(random.uniform(-noise, noise) + v.x, random.uniform(-noise, noise) + v.y) for v in qs ]\n",
    "# qs = [Point(x=0.5148949602122331, y=-0.6609233416597793), Point(x=0.8670884034662505, y=-0.9541214965739097), Point(x=0.9705504084225631, y=-0.1385265690880857), Point(x=0.23631267449226467, y=0.8502317040956364)]\n",
    "\n",
    "visualize_graph_trajectory(P_highway, \"mapmatch-1\", qs)\n",
    "\n",
    "print(qs)\n",
    "\n",
    "result = optimize_frechet_distance_stage_3(\n",
    "    graph=P_highway,\n",
    "    graph_neighbour=P_highway_neighbour,\n",
    "    sspd=frechet,\n",
    "    edge_match=edge_match,\n",
    "    qs=qs,\n",
    "    epsilon=epsilon,\n",
    "    closeness=0.001\n",
    ")\n",
    "\n",
    "print(result)"
   ]
  }
 ],
 "metadata": {
  "kernelspec": {
   "display_name": ".venv",
   "language": "python",
   "name": "python3"
  },
  "language_info": {
   "codemirror_mode": {
    "name": "ipython",
    "version": 3
   },
   "file_extension": ".py",
   "mimetype": "text/x-python",
   "name": "python",
   "nbconvert_exporter": "python",
   "pygments_lexer": "ipython3",
   "version": "3.13.2"
  }
 },
 "nbformat": 4,
 "nbformat_minor": 2
}
