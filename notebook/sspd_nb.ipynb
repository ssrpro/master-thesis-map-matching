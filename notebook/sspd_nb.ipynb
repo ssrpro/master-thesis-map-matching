{
 "cells": [
  {
   "cell_type": "markdown",
   "metadata": {},
   "source": [
    "Given the small, medium, and large graph dataset from the graph notebook, we will create the SSPD and transit points from the graph."
   ]
  },
  {
   "cell_type": "code",
   "execution_count": 15,
   "metadata": {},
   "outputs": [],
   "source": [
    "from mapmatch.input_graph import Graph, GraphNeighbour\n",
    "from mapmatch.bar_tree import compute_bar_tree_from_points\n",
    "from mapmatch.sspd import compute_modified_bar_tree, compute_sspd, query_sspd\n",
    "from mapmatch.visualisation import visualize_sspd\n",
    "\n",
    "import pickle\n",
    "from time import perf_counter\n",
    "\n",
    "P_highway_small: Graph = pickle.load(open(\"highway_small.dat\", \"rb\"))\n",
    "P_highway_medium: Graph = pickle.load(open(\"highway_medium.dat\", \"rb\"))\n",
    "P_highway_large: Graph = pickle.load(open(\"highway_large.dat\", \"rb\"))\n",
    "\n",
    "P_highway_small_neighbour = GraphNeighbour(P_highway_small)\n",
    "P_highway_medium_neighbour = GraphNeighbour(P_highway_medium)\n",
    "P_highway_large_neighbour = GraphNeighbour(P_highway_large)"
   ]
  },
  {
   "cell_type": "markdown",
   "metadata": {},
   "source": [
    "We will construct the SSPD by first creating the BAR tree, then the reduced BAR tree and finally the SSPD.\n",
    "The construction of SSPD also includes the computation of the transit points."
   ]
  },
  {
   "cell_type": "code",
   "execution_count": 16,
   "metadata": {},
   "outputs": [
    {
     "name": "stdout",
     "output_type": "stream",
     "text": [
      "Elapsed time small: 0.3770271999965189\n"
     ]
    }
   ],
   "source": [
    "perf_start = perf_counter() \n",
    "tree_small = compute_bar_tree_from_points(P_highway_small.vertices, 6, 2/3)\n",
    "tree_reduced_small = compute_modified_bar_tree(tree_small)\n",
    "sspd_small = compute_sspd(P_highway_small, P_highway_small_neighbour, tree_reduced_small, 0.5)\n",
    "perf_stop = perf_counter()\n",
    "print(f\"Elapsed time small: {perf_stop - perf_start}\")"
   ]
  },
  {
   "cell_type": "code",
   "execution_count": 17,
   "metadata": {},
   "outputs": [
    {
     "name": "stdout",
     "output_type": "stream",
     "text": [
      "Elapsed time medium: 1.1247709000017494\n"
     ]
    }
   ],
   "source": [
    "perf_start = perf_counter()\n",
    "tree_medium = compute_bar_tree_from_points(P_highway_medium.vertices, 6, 2/3)\n",
    "tree_reduced_medium = compute_modified_bar_tree(tree_medium)\n",
    "sspd_medium = compute_sspd(P_highway_medium, P_highway_medium_neighbour, tree_reduced_medium, 0.5)\n",
    "perf_stop = perf_counter()\n",
    "print(f\"Elapsed time medium: {perf_stop - perf_start}\")"
   ]
  },
  {
   "cell_type": "code",
   "execution_count": 18,
   "metadata": {},
   "outputs": [
    {
     "name": "stdout",
     "output_type": "stream",
     "text": [
      "Elapsed time large: 6.3648620000021765\n"
     ]
    }
   ],
   "source": [
    "perf_start = perf_counter() \n",
    "tree_large = compute_bar_tree_from_points(P_highway_large.vertices, 6, 2/3)\n",
    "tree_reduced_large = compute_modified_bar_tree(tree_large)\n",
    "sspd_large = compute_sspd(P_highway_large, P_highway_large_neighbour, tree_reduced_large, 0.5)\n",
    "perf_stop = perf_counter()\n",
    "print(f\"Elapsed time large: {perf_stop - perf_start}\")"
   ]
  },
  {
   "cell_type": "markdown",
   "metadata": {},
   "source": [
    "Now we will visualize some SSPD queries.\n",
    "Red represents the first point and green the second point.\n",
    "The biggest points are the pair we are performing the query on.\n",
    "The smaller points are part of the semi separated pair.\n",
    "The smallest points are the rest of the point, which are separated by the black transit points."
   ]
  },
  {
   "cell_type": "code",
   "execution_count": 19,
   "metadata": {},
   "outputs": [],
   "source": [
    "for ind, (i, j) in enumerate([(3, 6), (6, 19), (19, 14)]):\n",
    "    pi = P_highway_small.vertices[i]\n",
    "    pj = P_highway_small.vertices[j]\n",
    "\n",
    "    result = query_sspd(sspd_small, pi, pj)\n",
    "    visualize_sspd(P_highway_small, P_highway_small_neighbour, i, j, result.point_set[0].permutation, result.point_set[1].permutation, result.transit_points, f\"sspd-small-{ind}\")"
   ]
  },
  {
   "cell_type": "code",
   "execution_count": 20,
   "metadata": {},
   "outputs": [],
   "source": [
    "for ind, (i, j) in enumerate([(3, 32), (15, 55), (55, 44)]):\n",
    "    pi = P_highway_medium.vertices[i]\n",
    "    pj = P_highway_medium.vertices[j]\n",
    "\n",
    "    result = query_sspd(sspd_medium, pi, pj)\n",
    "    visualize_sspd(P_highway_medium, P_highway_medium_neighbour, i, j, result.point_set[0].permutation, result.point_set[1].permutation, result.transit_points, f\"sspd-medium-{ind}\", size=1.25)"
   ]
  },
  {
   "cell_type": "code",
   "execution_count": 21,
   "metadata": {},
   "outputs": [],
   "source": [
    "for ind, (i, j) in enumerate([(3, 109), (63, 139), (133, 139)]):\n",
    "    pi = P_highway_large.vertices[i]\n",
    "    pj = P_highway_large.vertices[j]\n",
    "\n",
    "    result = query_sspd(sspd_large, pi, pj)\n",
    "    visualize_sspd(P_highway_large, P_highway_large_neighbour, i, j, result.point_set[0].permutation, result.point_set[1].permutation, result.transit_points, f\"sspd-large-{ind}\", size=1)"
   ]
  }
 ],
 "metadata": {
  "kernelspec": {
   "display_name": ".venv",
   "language": "python",
   "name": "python3"
  },
  "language_info": {
   "codemirror_mode": {
    "name": "ipython",
    "version": 3
   },
   "file_extension": ".py",
   "mimetype": "text/x-python",
   "name": "python",
   "nbconvert_exporter": "python",
   "pygments_lexer": "ipython3",
   "version": "3.13.0"
  }
 },
 "nbformat": 4,
 "nbformat_minor": 2
}
