{
 "cells": [
  {
   "cell_type": "markdown",
   "metadata": {},
   "source": [
    "Given $n \\in \\mathbb{N}$ and $d > 0$, we create a point set on the plane $U \\subset \\mathbb{R}^2$ of size $n$ in the range $[-d, d]$."
   ]
  },
  {
   "cell_type": "code",
   "execution_count": 1,
   "metadata": {},
   "outputs": [],
   "source": [
    "from mapmatch.input_graph import create_points\n",
    "\n",
    "U1 = create_points(n=64, d=4)\n",
    "U2 = create_points(n=256, d=4)"
   ]
  },
  {
   "cell_type": "markdown",
   "metadata": {},
   "source": [
    "Given $\\alpha \\geq 1$ and $0 < \\beta < 1$, create a BAR tree where each region is bounded by aspect ratio $\\alpha$, and where each one-cut child has at most $\\beta$ points of their parent. By construction, paths from root to any leaf has at least a one-cut after two steps down the tree. This means that the depth of the tree is bounded by $-2\\log_{\\beta}(n)$. Note that we need $\\alpha \\geq 6$ and $\\beta \\geq \\frac{2}{3}$ to ensure the existence of the BAR tree."
   ]
  },
  {
   "cell_type": "code",
   "execution_count": 2,
   "metadata": {},
   "outputs": [
    {
     "name": "stdout",
     "output_type": "stream",
     "text": [
      "Elapsed time U1: 0.012468000000808388\n",
      "Elapsed time U2: 0.04222610000579152\n"
     ]
    }
   ],
   "source": [
    "from mapmatch.bar_tree import compute_bar_tree_from_points\n",
    "from time import perf_counter\n",
    "\n",
    "alpha = 6\n",
    "beta = 2/3\n",
    "\n",
    "perf_start = perf_counter() \n",
    "tree1 = compute_bar_tree_from_points(U1, alpha, beta)\n",
    "perf_stop = perf_counter()\n",
    "print(f\"Elapsed time U1: {perf_stop - perf_start}\")\n",
    "\n",
    "perf_start = perf_counter() \n",
    "tree2 = compute_bar_tree_from_points(U2, alpha, beta)\n",
    "perf_stop = perf_counter()\n",
    "print(f\"Elapsed time U2: {perf_stop - perf_start}\")"
   ]
  },
  {
   "cell_type": "markdown",
   "metadata": {},
   "source": [
    "Now we can visualize the BAR tree by showing all the cuts."
   ]
  },
  {
   "cell_type": "code",
   "execution_count": 3,
   "metadata": {},
   "outputs": [],
   "source": [
    "from mapmatch.visualisation import visualize_bar_tree\n",
    "\n",
    "visualize_bar_tree(tree1, \"bar_tree-64-const_1\", U1, 0)\n",
    "visualize_bar_tree(tree1, \"bar_tree-64-const_2\", U1, 1)\n",
    "visualize_bar_tree(tree1, \"bar_tree-64-const_3\", U1, 2)\n",
    "visualize_bar_tree(tree2, \"bar_tree-256-const_1\", U2, 0)\n",
    "visualize_bar_tree(tree2, \"bar_tree-256-const_2\", U2, 1)\n",
    "visualize_bar_tree(tree2, \"bar_tree-256-const_3\", U2, 2)"
   ]
  },
  {
   "cell_type": "markdown",
   "metadata": {},
   "source": [
    "We can also show the querying process of the BAR tree. The numbers indicate the order in which the region is discarded while binary searching."
   ]
  },
  {
   "cell_type": "code",
   "execution_count": 4,
   "metadata": {},
   "outputs": [],
   "source": [
    "from mapmatch.visualisation import visualize_bar_tree_query\n",
    "\n",
    "visualize_bar_tree_query(tree1, U1[0], \"bar_tree-64-query_1\")\n",
    "visualize_bar_tree_query(tree1, U1[1], \"bar_tree-64-query_2\")\n",
    "visualize_bar_tree_query(tree1, U1[2], \"bar_tree-64-query_3\")\n",
    "\n",
    "visualize_bar_tree_query(tree2, U2[0], \"bar_tree-256-query_1\")\n",
    "visualize_bar_tree_query(tree2, U2[1], \"bar_tree-256-query_2\")\n",
    "visualize_bar_tree_query(tree2, U2[2], \"bar_tree-256-query_3\")"
   ]
  },
  {
   "cell_type": "markdown",
   "metadata": {},
   "source": [
    "Now we will analyze the running time in seconds for varying $n$ values"
   ]
  },
  {
   "cell_type": "code",
   "execution_count": 5,
   "metadata": {},
   "outputs": [
    {
     "name": "stdout",
     "output_type": "stream",
     "text": [
      "Elapsed time n=64: 0.011198899999726564 seconds\n",
      "Elapsed time n=256: 0.07637239999894518 seconds\n",
      "Elapsed time n=1024: 0.18640409999352414 seconds\n",
      "Elapsed time n=4096: 0.7609410000004573 seconds\n",
      "Elapsed time n=16384: 3.085221100001945 seconds\n"
     ]
    }
   ],
   "source": [
    "\n",
    "Up_1 = create_points(n=64, d=4)\n",
    "Up_2 = create_points(n=256, d=4)\n",
    "Up_3 = create_points(n=1024, d=4)\n",
    "Up_4 = create_points(n=4096, d=4)\n",
    "Up_5 = create_points(n=16384, d=4)\n",
    "\n",
    "perf_start = perf_counter() \n",
    "compute_bar_tree_from_points(Up_1, alpha, beta)\n",
    "perf_stop = perf_counter()\n",
    "print(f\"Elapsed time n=64: {perf_stop - perf_start} seconds\")\n",
    "\n",
    "perf_start = perf_counter() \n",
    "compute_bar_tree_from_points(Up_2, alpha, beta)\n",
    "perf_stop = perf_counter()\n",
    "print(f\"Elapsed time n=256: {perf_stop - perf_start} seconds\")\n",
    "\n",
    "perf_start = perf_counter() \n",
    "compute_bar_tree_from_points(Up_3, alpha, beta)\n",
    "perf_stop = perf_counter()\n",
    "print(f\"Elapsed time n=1024: {perf_stop - perf_start} seconds\")\n",
    "\n",
    "perf_start = perf_counter() \n",
    "compute_bar_tree_from_points(Up_4, alpha, beta)\n",
    "perf_stop = perf_counter()\n",
    "print(f\"Elapsed time n=4096: {perf_stop - perf_start} seconds\")\n",
    "\n",
    "perf_start = perf_counter() \n",
    "compute_bar_tree_from_points(Up_5, alpha, beta)\n",
    "perf_stop = perf_counter()\n",
    "print(f\"Elapsed time n=16384: {perf_stop - perf_start} seconds\")"
   ]
  }
 ],
 "metadata": {
  "kernelspec": {
   "display_name": ".venv",
   "language": "python",
   "name": "python3"
  },
  "language_info": {
   "codemirror_mode": {
    "name": "ipython",
    "version": 3
   },
   "file_extension": ".py",
   "mimetype": "text/x-python",
   "name": "python",
   "nbconvert_exporter": "python",
   "pygments_lexer": "ipython3",
   "version": "3.13.0"
  }
 },
 "nbformat": 4,
 "nbformat_minor": 2
}
